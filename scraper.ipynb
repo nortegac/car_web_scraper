{
 "cells": [
  {
   "attachments": {},
   "cell_type": "markdown",
   "metadata": {},
   "source": [
    "# Web scraper de información de vehículos usados"
   ]
  },
  {
   "cell_type": "code",
   "execution_count": null,
   "metadata": {},
   "outputs": [],
   "source": [
    "from bs4 import BeautifulSoup\n",
    "import requests\n",
    "import pandas as pd\n",
    "from tqdm import tqdm, trange\n",
    "import time"
   ]
  },
  {
   "cell_type": "markdown",
   "metadata": {},
   "source": [
    "# Mercado Libre"
   ]
  },
  {
   "cell_type": "code",
   "execution_count": null,
   "metadata": {},
   "outputs": [],
   "source": [
    "def get_car_info(url):\n",
    "    soup = BeautifulSoup(requests.get(url).text, 'lxml')\n",
    "    car_info = {}\n",
    "    try:\n",
    "        car_info['Precio'] = soup.find('div', class_='ui-pdp-price__second-line').find('span', class_='andes-visually-hidden').text.split(' ')[0]\n",
    "        car_info['Precio'] = int(car_info['Precio'])\n",
    "        table = soup.find('table', class_='andes-table')\n",
    "        for tr in table.find_all('tr'):\n",
    "            key = tr.find('th').text\n",
    "            value = tr.find('td').text\n",
    "            car_info[key] = value\n",
    "        \n",
    "        car_info['Kilómetros'] = int(car_info['Kilómetros'].replace('km', ''))\n",
    "        return car_info\n",
    "    except:\n",
    "        return get_car_info(url)"
   ]
  },
  {
   "cell_type": "code",
   "execution_count": null,
   "metadata": {},
   "outputs": [],
   "source": [
    "html_text = requests.get('https://carros.mercadolibre.com.co/').text\n",
    "soup = BeautifulSoup(html_text, 'lxml')"
   ]
  },
  {
   "cell_type": "code",
   "execution_count": null,
   "metadata": {},
   "outputs": [],
   "source": [
    "num_pages = int(soup.find('li', class_='andes-pagination__page-count').text.split(' ')[-1])\n",
    "num_pages"
   ]
  },
  {
   "cell_type": "code",
   "execution_count": null,
   "metadata": {},
   "outputs": [],
   "source": [
    "df = pd.DataFrame()\n",
    "for i in trange(1,num_pages+1):\n",
    "    html_text = requests.get(f'https://carros.mercadolibre.com.co/_Desde_{(i*48)+1}').text\n",
    "    soup = BeautifulSoup(html_text, 'lxml')\n",
    "    cars = soup.find_all('div', class_='ui-search-result__wrapper shops__result-wrapper')\n",
    "    for car in cars:\n",
    "        url = car.find('a', class_='ui-search-link')['href']\n",
    "        df = pd.concat([df, pd.DataFrame([get_car_info(url)])])\n",
    "\n",
    "\n",
    "df.reset_index(drop=True, inplace=True)\n",
    "df.rename(columns={'Tipo de combustible':'Combustible', 'Kilómetros':'Kilometraje'}, inplace=True)"
   ]
  },
  {
   "cell_type": "code",
   "execution_count": null,
   "metadata": {},
   "outputs": [],
   "source": [
    "df"
   ]
  },
  {
   "attachments": {},
   "cell_type": "markdown",
   "metadata": {},
   "source": [
    "# Vende tu Nave"
   ]
  },
  {
   "cell_type": "code",
   "execution_count": null,
   "metadata": {},
   "outputs": [],
   "source": [
    "from selenium import webdriver \n",
    "from selenium.webdriver import Chrome \n",
    "from selenium.webdriver.chrome.service import Service \n",
    "from selenium.webdriver.common.by import By \n",
    "from webdriver_manager.chrome import ChromeDriverManager"
   ]
  },
  {
   "cell_type": "code",
   "execution_count": null,
   "metadata": {},
   "outputs": [],
   "source": [
    "def get_car_info(url):\n",
    "    soup = BeautifulSoup(requests.get(url).text, 'lxml')\n",
    "    try:\n",
    "        car_info = {}\n",
    "        car_info['Precio'] = int(soup.find('h2', class_='ui header').text.split(' ')[1].replace('.', ''))\n",
    "        rows = soup.find('div', id='desc-desk').find_all('div', class_='two column row')\n",
    "        for row in rows:\n",
    "            keys = row.find_all('h3')\n",
    "            values = row.find_all('p')\n",
    "            for key, value in zip(keys, values):\n",
    "                car_info[key.text.replace(':','')] = value.text\n",
    "        \n",
    "        car_info['Kilometraje'] = int(car_info['Kilometraje'].replace('km', '').replace('.',''))\n",
    "        car_info['Motor'] = car_info.pop('Cilindraje').replace('cc', '')\n",
    "        del car_info['Estado'], car_info['Tipo precio'], car_info['Último dígito de placa'], car_info['Blindaje'], car_info['Peritaje']\n",
    "        \n",
    "        return car_info\n",
    "    except Exception as e:\n",
    "        print('Error trying to get car info from url: ', url)\n",
    "        print(e)\n",
    "        return None\n",
    "        "
   ]
  },
  {
   "cell_type": "code",
   "execution_count": null,
   "metadata": {},
   "outputs": [],
   "source": [
    "# start by defining the options \n",
    "options = webdriver.ChromeOptions() \n",
    "options.add_argument('--headless')\n",
    "# normally, selenium waits for all resources to download \n",
    "# we don't need it as the page also populated with the running javascript code. \n",
    "options.page_load_strategy = 'none' \n",
    "# this returns the path web driver downloaded \n",
    "chrome_path = ChromeDriverManager().install() \n",
    "chrome_service = Service(chrome_path) \n",
    "# pass the defined options and service objects to initialize the web driver \n",
    "driver = Chrome(options=options, service=chrome_service) \n",
    "driver.implicitly_wait(5)"
   ]
  },
  {
   "cell_type": "code",
   "execution_count": null,
   "metadata": {},
   "outputs": [],
   "source": [
    "url = \"https://www.vendetunave.co/vehiculos/carrosycamionetas?&estado=Usado&page=999\" \n",
    "driver.get(url) \n",
    "# time.sleep(0.5)"
   ]
  },
  {
   "cell_type": "code",
   "execution_count": null,
   "metadata": {},
   "outputs": [],
   "source": [
    "num_pages = driver.find_element(By.CLASS_NAME, 'ui.pagination.pointing.secondary.menu').find_elements(By.TAG_NAME, 'a')[-2].get_attribute('value')\n",
    "num_pages = int(num_pages)\n",
    "num_pages"
   ]
  },
  {
   "cell_type": "code",
   "execution_count": null,
   "metadata": {},
   "outputs": [],
   "source": [
    "for i in trange(1,num_pages+1):\n",
    "    url = f'https://www.vendetunave.co/vehiculos/carrosycamionetas?&estado=Usado&page={i}'\n",
    "    driver.get(url)\n",
    "    # time.sleep(0.5)\n",
    "    cars = driver.find_elements(By.CLASS_NAME, 'ui.card')\n",
    "    for car in cars:\n",
    "        url = car.get_attribute('href')\n",
    "        car_info = get_car_info(url)\n",
    "        df = pd.concat([df, pd.DataFrame([car_info])]) if car_info else df\n",
    "\n",
    "df"
   ]
  }
 ],
 "metadata": {
  "kernelspec": {
   "display_name": "Python 3",
   "language": "python",
   "name": "python3"
  },
  "language_info": {
   "codemirror_mode": {
    "name": "ipython",
    "version": 3
   },
   "file_extension": ".py",
   "mimetype": "text/x-python",
   "name": "python",
   "nbconvert_exporter": "python",
   "pygments_lexer": "ipython3",
   "version": "3.8.3"
  },
  "orig_nbformat": 4,
  "vscode": {
   "interpreter": {
    "hash": "aee8b7b246df8f9039afb4144a1f6fd8d2ca17a180786b69acc140d282b71a49"
   }
  }
 },
 "nbformat": 4,
 "nbformat_minor": 2
}
