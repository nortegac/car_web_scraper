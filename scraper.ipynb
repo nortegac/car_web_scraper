{
 "cells": [
  {
   "attachments": {},
   "cell_type": "markdown",
   "metadata": {},
   "source": [
    "# Web scraper de información de vehículos usados"
   ]
  },
  {
   "cell_type": "code",
   "execution_count": null,
   "metadata": {},
   "outputs": [],
   "source": [
    "from bs4 import BeautifulSoup\n",
    "import requests\n",
    "import pandas as pd\n",
    "from tqdm import tqdm, trange\n",
    "import time"
   ]
  },
  {
   "attachments": {},
   "cell_type": "markdown",
   "metadata": {},
   "source": [
    "## Mercado Libre"
   ]
  },
  {
   "cell_type": "code",
   "execution_count": null,
   "metadata": {},
   "outputs": [],
   "source": [
    "def get_car_info(url):\n",
    "    soup = BeautifulSoup(requests.get(url).text, 'lxml')\n",
    "    car_info = {}\n",
    "    try:\n",
    "        car_info['Precio'] = soup.find('div', class_='ui-pdp-price__second-line').find('span', class_='andes-visually-hidden').text.split(' ')[0]\n",
    "        car_info['Precio'] = int(car_info['Precio'])\n",
    "        table = soup.find('table', class_='andes-table')\n",
    "        for tr in table.find_all('tr'):\n",
    "            key = tr.find('th').text\n",
    "            value = tr.find('td').text\n",
    "            car_info[key] = value\n",
    "        \n",
    "        car_info['Kilómetros'] = int(car_info['Kilómetros'].replace('km', ''))\n",
    "        car_info['Año'] = int(car_info['Año'])\n",
    "        return car_info\n",
    "    except:\n",
    "        return get_car_info(url)"
   ]
  },
  {
   "cell_type": "code",
   "execution_count": null,
   "metadata": {},
   "outputs": [],
   "source": [
    "html_text = requests.get('https://carros.mercadolibre.com.co/').text\n",
    "soup = BeautifulSoup(html_text, 'lxml')"
   ]
  },
  {
   "cell_type": "code",
   "execution_count": null,
   "metadata": {},
   "outputs": [],
   "source": [
    "num_pages = int(soup.find('li', class_='andes-pagination__page-count').text.split(' ')[-1])\n",
    "num_pages"
   ]
  },
  {
   "cell_type": "code",
   "execution_count": null,
   "metadata": {},
   "outputs": [],
   "source": [
    "df = pd.DataFrame()\n",
    "for i in trange(1,num_pages+1):\n",
    "    html_text = requests.get(f'https://carros.mercadolibre.com.co/_Desde_{(i*48)+1}').text\n",
    "    soup = BeautifulSoup(html_text, 'lxml')\n",
    "    cars = soup.find_all('div', class_='ui-search-result__wrapper shops__result-wrapper')\n",
    "    for car in cars:\n",
    "        url = car.find('a', class_='ui-search-link')['href']\n",
    "        df = pd.concat([df, pd.DataFrame([get_car_info(url)])])\n",
    "\n",
    "\n",
    "df.reset_index(drop=True, inplace=True)\n",
    "df.rename(columns={'Tipo de combustible':'Combustible', 'Kilómetros':'Kilometraje'}, inplace=True)"
   ]
  },
  {
   "cell_type": "code",
   "execution_count": null,
   "metadata": {},
   "outputs": [],
   "source": [
    "df"
   ]
  },
  {
   "attachments": {},
   "cell_type": "markdown",
   "metadata": {},
   "source": [
    "## Vende tu Nave"
   ]
  },
  {
   "cell_type": "code",
   "execution_count": null,
   "metadata": {},
   "outputs": [],
   "source": [
    "from selenium import webdriver \n",
    "from selenium.webdriver import Chrome \n",
    "from selenium.webdriver.chrome.service import Service \n",
    "from selenium.webdriver.common.by import By\n",
    "import numpy as np"
   ]
  },
  {
   "cell_type": "code",
   "execution_count": 390,
   "metadata": {},
   "outputs": [],
   "source": [
    "def start_chrome_driver():\n",
    "    options = webdriver.ChromeOptions()\n",
    "    options.add_argument('--headless')\n",
    "    options.page_load_strategy = 'none'\n",
    "    options.experimental_options[\"prefs\"] = {\n",
    "        \"profile.managed_default_content_settings.images\": 2,\n",
    "        \"profile.managed_default_content_settings.stylesheets\": 2,\n",
    "        \"profile.managed_default_content_settings.javascript\": 2,\n",
    "        \"profile.managed_default_content_settings.cookies\": 2,\n",
    "        \"profile.managed_default_content_settings.geolocation\": 2,\n",
    "        \"profile.default_content_setting_values.notifications\": 2,\n",
    "    }\n",
    "    driver = Chrome(options=options)\n",
    "    driver.implicitly_wait(5)\n",
    "\n",
    "    return driver\n"
   ]
  },
  {
   "cell_type": "code",
   "execution_count": 299,
   "metadata": {},
   "outputs": [],
   "source": [
    "def get_car_info(url):\n",
    "    soup = BeautifulSoup(requests.get(url).text, 'lxml')\n",
    "    try:\n",
    "        car_info = {}\n",
    "        car_info['Precio'] = int(soup.find('h2', class_='ui header').text.split(' ')[1].replace('.', ''))\n",
    "        rows = soup.find('div', id='desc-desk').find_all('div', class_='two column row')\n",
    "        for row in rows:\n",
    "            keys = row.find_all('h3')\n",
    "            values = row.find_all('p')\n",
    "            for key, value in zip(keys, values):\n",
    "                car_info[key.text.replace(':','')] = value.text\n",
    "        \n",
    "        car_info['Kilometraje'] = int(car_info['Kilometraje'].replace('km', '').replace('.',''))\n",
    "        car_info['Motor'] = car_info.pop('Cilindraje').replace('cc', '')\n",
    "        car_info['Año'] = int(car_info['Año'])\n",
    "        del car_info['Estado'], car_info['Tipo precio'], car_info['Último dígito de placa'], car_info['Blindaje'], car_info['Peritaje']\n",
    "        \n",
    "        return car_info\n",
    "    except Exception as e:\n",
    "        print('Error trying to get car info from url: ', url)\n",
    "        print(e)\n",
    "        return None\n",
    "        "
   ]
  },
  {
   "cell_type": "code",
   "execution_count": 257,
   "metadata": {},
   "outputs": [],
   "source": [
    "driver = start_chrome_driver()\n",
    "url = \"https://www.vendetunave.co/vehiculos/carrosycamionetas?&estado=Usado&page=999\" \n",
    "driver.get(url) \n",
    "# time.sleep(0.5)"
   ]
  },
  {
   "cell_type": "code",
   "execution_count": 255,
   "metadata": {},
   "outputs": [
    {
     "data": {
      "text/plain": [
       "113"
      ]
     },
     "execution_count": 255,
     "metadata": {},
     "output_type": "execute_result"
    }
   ],
   "source": [
    "num_pages = driver.find_element(By.CLASS_NAME, 'ui.pagination.pointing.secondary.menu').find_elements(By.TAG_NAME, 'a')[-2].get_attribute('value')\n",
    "num_pages = int(num_pages)\n",
    "num_pages"
   ]
  },
  {
   "cell_type": "code",
   "execution_count": null,
   "metadata": {},
   "outputs": [],
   "source": [
    "for i in trange(1,num_pages+1):\n",
    "    url = f'https://www.vendetunave.co/vehiculos/carrosycamionetas?&estado=Usado&page={i}'\n",
    "    driver.get(url)\n",
    "    time.sleep(1)\n",
    "    cars = driver.find_elements(By.CLASS_NAME, 'ui.card')\n",
    "    for car in cars:\n",
    "        url = car.get_attribute('href')\n",
    "        car_info = get_car_info(url)\n",
    "        df = pd.concat([df, pd.DataFrame([car_info])]) if car_info else df\n",
    "\n",
    "df"
   ]
  },
  {
   "attachments": {},
   "cell_type": "markdown",
   "metadata": {},
   "source": [
    "## CarroYa"
   ]
  },
  {
   "cell_type": "code",
   "execution_count": 367,
   "metadata": {},
   "outputs": [],
   "source": [
    "def get_car_info(url, driver):\n",
    "    driver.get(url)\n",
    "    time.sleep(3)\n",
    "\n",
    "    try:\n",
    "        car_info = {}\n",
    "        \n",
    "        aux_info = {}\n",
    "        features = driver.find_elements(By.CSS_SELECTOR, \"div[class='feature']\")\n",
    "        for f in features:\n",
    "            key = f.find_element(By.TAG_NAME, 'h5').text\n",
    "            value = f.find_element(By.TAG_NAME, 'h4').text\n",
    "            aux_info[key] = value\n",
    "\n",
    "        car_info['Precio'] = int(driver.find_element(By.ID, 'priceInfo').text.replace('$', '').replace('.', ''))\n",
    "        \n",
    "        marca_modelo = driver.find_element(By.CSS_SELECTOR, \"h1[class='title text']\").text\n",
    "        for brand in ['Mercedes', 'Land Rover', 'Mini', 'Alfa', 'Aston']:\n",
    "            if brand in marca_modelo:\n",
    "                index = marca_modelo.find(' ', marca_modelo.find(' ')+1)\n",
    "                break\n",
    "            else:\n",
    "                index = marca_modelo.find(' ')\n",
    "        car_info['Marca'] = marca_modelo[:index]\n",
    "        car_info['Modelo'] = marca_modelo[index:]\n",
    "        \n",
    "        car_info['Año'] = int(driver.find_element(By.CSS_SELECTOR, \"h3[class='h3P year']\").text)\n",
    "        car_info['Versión'] = driver.find_element(By.CSS_SELECTOR, \"h3[class='h3P text']\").text\n",
    "        car_info['Color'] = aux_info.get('COLOR', np.nan)\n",
    "        car_info['Combustible'] = aux_info.get('COMBUSTIBLE', np.nan)\n",
    "        car_info['Puertas'] = aux_info.get('PUERTAS', np.nan)\n",
    "        car_info['Transmisión'] = aux_info.get('TIPO DE CAJA', np.nan)\n",
    "        car_info['Motor'] = aux_info.get('CILINDRAJE', np.nan)\n",
    "        car_info['Kilómetros'] = int(driver.find_element(By.CSS_SELECTOR, \"h3[class='h3P kilometers']\").text.replace('km', '').replace('.', ''))\n",
    "\n",
    "        del aux_info\n",
    "\n",
    "        return car_info\n",
    "        \n",
    "    except Exception as e:\n",
    "        print('Error trying to get car info from url: ', url)\n",
    "        print(e)\n",
    "        return None"
   ]
  },
  {
   "cell_type": "code",
   "execution_count": 385,
   "metadata": {},
   "outputs": [],
   "source": [
    "driver = start_chrome_driver()\n",
    "url = \"https://www.carroya.com/automoviles-y-camionetas/usado?page=1\" \n",
    "driver.get(url)\n",
    "time.sleep(1)"
   ]
  },
  {
   "cell_type": "code",
   "execution_count": 378,
   "metadata": {},
   "outputs": [
    {
     "data": {
      "text/plain": [
       "200"
      ]
     },
     "execution_count": 378,
     "metadata": {},
     "output_type": "execute_result"
    }
   ],
   "source": [
    "num_pages = int(driver.find_element(By.CSS_SELECTOR, \"ul[class='ant-pagination mini hidePrevArrow']\").find_elements(By.TAG_NAME, 'li')[-2].text)\n",
    "num_pages = min(num_pages, 200)\n",
    "num_pages"
   ]
  },
  {
   "cell_type": "code",
   "execution_count": null,
   "metadata": {},
   "outputs": [],
   "source": [
    "df = pd.DataFrame()\n",
    "for i in trange(1,num_pages+1):\n",
    "    # print(f'Page {i} of {num_pages}')\n",
    "    driver = start_chrome_driver()\n",
    "    url = f'https://www.carroya.com/automoviles-y-camionetas/usado?page={i}'\n",
    "    driver.get(url)\n",
    "    time.sleep(1)\n",
    "    cars = driver.find_elements(By.CLASS_NAME, 'contentCurrentCard')\n",
    "    for car in cars:\n",
    "        url = car.find_element(By.TAG_NAME, 'a').get_attribute('href')\n",
    "        driver2 = start_chrome_driver()\n",
    "        car_info = get_car_info(url, driver2)\n",
    "        df = pd.concat([df, pd.DataFrame([car_info])]) if car_info else df"
   ]
  },
  {
   "cell_type": "code",
   "execution_count": 394,
   "metadata": {},
   "outputs": [
    {
     "data": {
      "text/html": [
       "<div>\n",
       "<style scoped>\n",
       "    .dataframe tbody tr th:only-of-type {\n",
       "        vertical-align: middle;\n",
       "    }\n",
       "\n",
       "    .dataframe tbody tr th {\n",
       "        vertical-align: top;\n",
       "    }\n",
       "\n",
       "    .dataframe thead th {\n",
       "        text-align: right;\n",
       "    }\n",
       "</style>\n",
       "<table border=\"1\" class=\"dataframe\">\n",
       "  <thead>\n",
       "    <tr style=\"text-align: right;\">\n",
       "      <th></th>\n",
       "      <th>Precio</th>\n",
       "      <th>Marca</th>\n",
       "      <th>Modelo</th>\n",
       "      <th>Año</th>\n",
       "      <th>Versión</th>\n",
       "      <th>Color</th>\n",
       "      <th>Combustible</th>\n",
       "      <th>Puertas</th>\n",
       "      <th>Transmisión</th>\n",
       "      <th>Motor</th>\n",
       "      <th>Kilómetros</th>\n",
       "    </tr>\n",
       "  </thead>\n",
       "  <tbody>\n",
       "    <tr>\n",
       "      <th>0</th>\n",
       "      <td>34500000</td>\n",
       "      <td>Chevrolet</td>\n",
       "      <td>Spark</td>\n",
       "      <td>2015</td>\n",
       "      <td>GT Mecanico Full Equipo</td>\n",
       "      <td>Negro</td>\n",
       "      <td>Gasolina</td>\n",
       "      <td>NaN</td>\n",
       "      <td>Mecánica</td>\n",
       "      <td>1.200</td>\n",
       "      <td>56900</td>\n",
       "    </tr>\n",
       "    <tr>\n",
       "      <th>1</th>\n",
       "      <td>18200000</td>\n",
       "      <td>Nissan</td>\n",
       "      <td>Sentra</td>\n",
       "      <td>2007</td>\n",
       "      <td>1.6 16V</td>\n",
       "      <td>Gris</td>\n",
       "      <td>Gasolina</td>\n",
       "      <td>NaN</td>\n",
       "      <td>Mecánica</td>\n",
       "      <td>1.600</td>\n",
       "      <td>125000</td>\n",
       "    </tr>\n",
       "    <tr>\n",
       "      <th>2</th>\n",
       "      <td>63500000</td>\n",
       "      <td>Volvo</td>\n",
       "      <td>XC 60</td>\n",
       "      <td>2012</td>\n",
       "      <td>2.0 Turbo</td>\n",
       "      <td>Negro</td>\n",
       "      <td>Gasolina</td>\n",
       "      <td>NaN</td>\n",
       "      <td>Automática</td>\n",
       "      <td>2.000</td>\n",
       "      <td>99500</td>\n",
       "    </tr>\n",
       "    <tr>\n",
       "      <th>3</th>\n",
       "      <td>105000000</td>\n",
       "      <td>Toyota</td>\n",
       "      <td>Land Cruiser</td>\n",
       "      <td>2001</td>\n",
       "      <td>100 V8 Imperial Automatica</td>\n",
       "      <td>Gris</td>\n",
       "      <td>Gasolina</td>\n",
       "      <td>NaN</td>\n",
       "      <td>Automática</td>\n",
       "      <td>4.700</td>\n",
       "      <td>193500</td>\n",
       "    </tr>\n",
       "    <tr>\n",
       "      <th>4</th>\n",
       "      <td>92000000</td>\n",
       "      <td>Nissan</td>\n",
       "      <td>Kicks</td>\n",
       "      <td>2019</td>\n",
       "      <td>Exclusive Aut</td>\n",
       "      <td>Plateado</td>\n",
       "      <td>Gasolina</td>\n",
       "      <td>5</td>\n",
       "      <td>Automática</td>\n",
       "      <td>1.600</td>\n",
       "      <td>35000</td>\n",
       "    </tr>\n",
       "    <tr>\n",
       "      <th>...</th>\n",
       "      <td>...</td>\n",
       "      <td>...</td>\n",
       "      <td>...</td>\n",
       "      <td>...</td>\n",
       "      <td>...</td>\n",
       "      <td>...</td>\n",
       "      <td>...</td>\n",
       "      <td>...</td>\n",
       "      <td>...</td>\n",
       "      <td>...</td>\n",
       "      <td>...</td>\n",
       "    </tr>\n",
       "    <tr>\n",
       "      <th>276</th>\n",
       "      <td>32000000</td>\n",
       "      <td>Chevrolet</td>\n",
       "      <td>Sail</td>\n",
       "      <td>2017</td>\n",
       "      <td>1.4 LS Mecanico Aire Acondicionado</td>\n",
       "      <td>Gris</td>\n",
       "      <td>Gasolina</td>\n",
       "      <td>4</td>\n",
       "      <td>Mecánica</td>\n",
       "      <td>1.400</td>\n",
       "      <td>77000</td>\n",
       "    </tr>\n",
       "    <tr>\n",
       "      <th>277</th>\n",
       "      <td>42000000</td>\n",
       "      <td>Volkswagen</td>\n",
       "      <td>Gol Trendline</td>\n",
       "      <td>2017</td>\n",
       "      <td></td>\n",
       "      <td>Negro</td>\n",
       "      <td>Gasolina</td>\n",
       "      <td>NaN</td>\n",
       "      <td>Mecánica</td>\n",
       "      <td>1.600</td>\n",
       "      <td>35000</td>\n",
       "    </tr>\n",
       "    <tr>\n",
       "      <th>278</th>\n",
       "      <td>30900000</td>\n",
       "      <td>Chevrolet</td>\n",
       "      <td>Spark</td>\n",
       "      <td>2012</td>\n",
       "      <td>1.2 GT LT Mecanico</td>\n",
       "      <td>Plateado</td>\n",
       "      <td>Gasolina</td>\n",
       "      <td>NaN</td>\n",
       "      <td>Mecánica</td>\n",
       "      <td>1.206</td>\n",
       "      <td>90167</td>\n",
       "    </tr>\n",
       "    <tr>\n",
       "      <th>279</th>\n",
       "      <td>190900000</td>\n",
       "      <td>Land Rover</td>\n",
       "      <td>Discovery</td>\n",
       "      <td>2019</td>\n",
       "      <td>Sport S 2.0 Suv Automatico</td>\n",
       "      <td>Plateado</td>\n",
       "      <td>Gasolina</td>\n",
       "      <td>NaN</td>\n",
       "      <td>Automática</td>\n",
       "      <td>2.000</td>\n",
       "      <td>49328</td>\n",
       "    </tr>\n",
       "    <tr>\n",
       "      <th>280</th>\n",
       "      <td>43900000</td>\n",
       "      <td>Renault</td>\n",
       "      <td>Logan</td>\n",
       "      <td>2019</td>\n",
       "      <td>1.6</td>\n",
       "      <td>Gris</td>\n",
       "      <td>Gasolina</td>\n",
       "      <td>NaN</td>\n",
       "      <td>Mecánica</td>\n",
       "      <td>1.598</td>\n",
       "      <td>77884</td>\n",
       "    </tr>\n",
       "  </tbody>\n",
       "</table>\n",
       "<p>281 rows × 11 columns</p>\n",
       "</div>"
      ],
      "text/plain": [
       "        Precio       Marca          Modelo   Año  \\\n",
       "0     34500000   Chevrolet           Spark  2015   \n",
       "1     18200000      Nissan          Sentra  2007   \n",
       "2     63500000       Volvo           XC 60  2012   \n",
       "3    105000000      Toyota    Land Cruiser  2001   \n",
       "4     92000000      Nissan           Kicks  2019   \n",
       "..         ...         ...             ...   ...   \n",
       "276   32000000   Chevrolet            Sail  2017   \n",
       "277   42000000  Volkswagen   Gol Trendline  2017   \n",
       "278   30900000   Chevrolet           Spark  2012   \n",
       "279  190900000  Land Rover       Discovery  2019   \n",
       "280   43900000     Renault           Logan  2019   \n",
       "\n",
       "                                Versión     Color Combustible Puertas  \\\n",
       "0               GT Mecanico Full Equipo     Negro    Gasolina     NaN   \n",
       "1                               1.6 16V      Gris    Gasolina     NaN   \n",
       "2                             2.0 Turbo     Negro    Gasolina     NaN   \n",
       "3            100 V8 Imperial Automatica      Gris    Gasolina     NaN   \n",
       "4                         Exclusive Aut  Plateado    Gasolina       5   \n",
       "..                                  ...       ...         ...     ...   \n",
       "276  1.4 LS Mecanico Aire Acondicionado      Gris    Gasolina       4   \n",
       "277                                         Negro    Gasolina     NaN   \n",
       "278                  1.2 GT LT Mecanico  Plateado    Gasolina     NaN   \n",
       "279          Sport S 2.0 Suv Automatico  Plateado    Gasolina     NaN   \n",
       "280                                 1.6      Gris    Gasolina     NaN   \n",
       "\n",
       "    Transmisión  Motor  Kilómetros  \n",
       "0      Mecánica  1.200       56900  \n",
       "1      Mecánica  1.600      125000  \n",
       "2    Automática  2.000       99500  \n",
       "3    Automática  4.700      193500  \n",
       "4    Automática  1.600       35000  \n",
       "..          ...    ...         ...  \n",
       "276    Mecánica  1.400       77000  \n",
       "277    Mecánica  1.600       35000  \n",
       "278    Mecánica  1.206       90167  \n",
       "279  Automática  2.000       49328  \n",
       "280    Mecánica  1.598       77884  \n",
       "\n",
       "[281 rows x 11 columns]"
      ]
     },
     "execution_count": 394,
     "metadata": {},
     "output_type": "execute_result"
    }
   ],
   "source": [
    "df.reset_index(drop=True, inplace=True)\n",
    "df"
   ]
  }
 ],
 "metadata": {
  "kernelspec": {
   "display_name": "Python 3",
   "language": "python",
   "name": "python3"
  },
  "language_info": {
   "codemirror_mode": {
    "name": "ipython",
    "version": 3
   },
   "file_extension": ".py",
   "mimetype": "text/x-python",
   "name": "python",
   "nbconvert_exporter": "python",
   "pygments_lexer": "ipython3",
   "version": "3.8.3"
  },
  "orig_nbformat": 4,
  "vscode": {
   "interpreter": {
    "hash": "aee8b7b246df8f9039afb4144a1f6fd8d2ca17a180786b69acc140d282b71a49"
   }
  }
 },
 "nbformat": 4,
 "nbformat_minor": 2
}
